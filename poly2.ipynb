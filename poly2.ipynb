{
 "cells": [
  {
   "cell_type": "code",
   "execution_count": 1,
   "id": "110b8397",
   "metadata": {},
   "outputs": [],
   "source": [
    "import numpy as np \n",
    "import pandas as pd \n",
    "import matplotlib.pyplot as plt\n",
    "import seaborn as sns\n",
    "#import statsmodels.api as sm\n",
    "#from statsmodels.tsa.stattools import adfuller\n",
    "#from statsmodels.graphics.tsaplots import plot_acf, plot_pacf\n",
    "from sklearn.metrics import mean_squared_error\n",
    "from math import sqrt\n",
    "import warnings\n",
    "warnings.filterwarnings('ignore')\n",
    "%matplotlib inline"
   ]
  },
  {
   "cell_type": "code",
   "execution_count": 2,
   "id": "df82738a",
   "metadata": {},
   "outputs": [],
   "source": [
    "obs = pd.read_csv('/home/aimsstudent45/Downloads/Paper/obs.csv')\n",
    "sim4m = pd.read_csv('/home/aimsstudent45/Downloads/Paper/sim4m.csv')\n",
    "sim3m = pd.read_csv('/home/aimsstudent45/Downloads/Paper/sim3m.csv')\n",
    "sim2m = pd.read_csv('/home/aimsstudent45/Downloads/Paper/sim2m.csv')\n",
    "lat = pd.read_csv('/home/aimsstudent45/Downloads/Paper/lat.csv')"
   ]
  },
  {
   "cell_type": "code",
   "execution_count": 3,
   "id": "76b1f93a",
   "metadata": {},
   "outputs": [],
   "source": [
    "x = lat.iloc[:,1:2].values\n",
    "y = lat.iloc[:,-1].values\n",
    "#x4 = sim2m.iloc[:,1:2].values\n",
    "#y4 = sim2m.iloc[:,-1].values\n",
    "x1 = sim3m.iloc[:,1:2].values\n",
    "y1 = sim3m.iloc[:,-1].values\n",
    "x2 = sim4m.iloc[:,1:2].values\n",
    "y2 = sim4m.iloc[:,-1].values\n",
    "x3 = obs.iloc[:,0:1].values\n",
    "y3 = obs.iloc[:,-1].values"
   ]
  },
  {
   "cell_type": "code",
   "execution_count": 4,
   "id": "f61ae684",
   "metadata": {},
   "outputs": [
    {
     "ename": "NameError",
     "evalue": "name 'lin3' is not defined",
     "output_type": "error",
     "traceback": [
      "\u001b[0;31m---------------------------------------------------------------------------\u001b[0m",
      "\u001b[0;31mNameError\u001b[0m                                 Traceback (most recent call last)",
      "\u001b[0;32m<ipython-input-4-eebd574b6d10>\u001b[0m in \u001b[0;36m<module>\u001b[0;34m\u001b[0m\n\u001b[1;32m      5\u001b[0m \u001b[0;31m#lin.fit(x4,y4)\u001b[0m\u001b[0;34m\u001b[0m\u001b[0;34m\u001b[0m\u001b[0;34m\u001b[0m\u001b[0m\n\u001b[1;32m      6\u001b[0m \u001b[0mlin\u001b[0m\u001b[0;34m.\u001b[0m\u001b[0mfit\u001b[0m\u001b[0;34m(\u001b[0m\u001b[0mx\u001b[0m\u001b[0;34m,\u001b[0m\u001b[0my\u001b[0m\u001b[0;34m)\u001b[0m\u001b[0;34m\u001b[0m\u001b[0;34m\u001b[0m\u001b[0m\n\u001b[0;32m----> 7\u001b[0;31m \u001b[0mlin3\u001b[0m\u001b[0;34m.\u001b[0m\u001b[0mfit\u001b[0m\u001b[0;34m(\u001b[0m\u001b[0mx3\u001b[0m\u001b[0;34m,\u001b[0m\u001b[0my3\u001b[0m\u001b[0;34m)\u001b[0m\u001b[0;34m\u001b[0m\u001b[0;34m\u001b[0m\u001b[0m\n\u001b[0m\u001b[1;32m      8\u001b[0m \u001b[0mlin2\u001b[0m\u001b[0;34m.\u001b[0m\u001b[0mfit\u001b[0m\u001b[0;34m(\u001b[0m\u001b[0mx2\u001b[0m\u001b[0;34m,\u001b[0m\u001b[0my2\u001b[0m\u001b[0;34m)\u001b[0m\u001b[0;34m\u001b[0m\u001b[0;34m\u001b[0m\u001b[0m\n",
      "\u001b[0;31mNameError\u001b[0m: name 'lin3' is not defined"
     ]
    }
   ],
   "source": [
    "from sklearn.linear_model import LinearRegression\n",
    "\n",
    "lin = LinearRegression()\n",
    "lin.fit(x1,y1)\n",
    "#lin.fit(x4,y4)\n",
    "lin.fit(x,y)\n",
    "lin3.fit(x3,y3)\n",
    "lin2.fit(x2,y2)"
   ]
  },
  {
   "cell_type": "code",
   "execution_count": 5,
   "id": "394a51aa",
   "metadata": {},
   "outputs": [
    {
     "data": {
      "text/plain": [
       "LinearRegression()"
      ]
     },
     "execution_count": 5,
     "metadata": {},
     "output_type": "execute_result"
    }
   ],
   "source": [
    "from sklearn.preprocessing import PolynomialFeatures\n",
    "\n",
    "poly2 = PolynomialFeatures(degree = 5)\n",
    "poly3 = PolynomialFeatures(degree = 5)\n",
    "poly1 = PolynomialFeatures(degree = 5)\n",
    "#poly4 = PolynomialFeatures(degree = 5)\n",
    "poly = PolynomialFeatures(degree = 5)\n",
    "\n",
    "x_poly = poly.fit_transform(x)\n",
    "x1_poly1 = poly1.fit_transform(x1)\n",
    "x2_poly2 = poly2.fit_transform(x2)\n",
    "x3_poly3 = poly3.fit_transform(x3)\n",
    "#x4_poly4 = poly4.fit_transform(x4)\n",
    "\n",
    "poly.fit(x_poly, y)\n",
    "poly1.fit(x1_poly1, y1)\n",
    "poly2.fit(x2_poly2, y2)\n",
    "poly3.fit(x3_poly3, y3)\n",
    "#poly4.fit(x4_poly4, y4)\n",
    "lin2 = LinearRegression()\n",
    "lin3 = LinearRegression()\n",
    "#lin4 = LinearRegression()\n",
    "lin = LinearRegression()\n",
    "#lin2.fit(x_poly,y)\n",
    "lin.fit(x_poly,y)\n",
    "lin2.fit(x2_poly2,y2)\n",
    "lin3.fit(x3_poly3,y3)\n",
    "#lin.fit(x4_poly4,y4)\n",
    "lin.fit(x1_poly1,y1)\n",
    "         "
   ]
  },
  {
   "cell_type": "code",
   "execution_count": 6,
   "id": "c8a5408d",
   "metadata": {},
   "outputs": [
    {
     "data": {
      "text/plain": [
       "<matplotlib.legend.Legend at 0x7f5d493fa670>"
      ]
     },
     "execution_count": 6,
     "metadata": {},
     "output_type": "execute_result"
    },
    {
     "data": {
      "image/png": "[encoded data removed]",
      "text/plain": [
       "<Figure size 432x288 with 1 Axes>"
      ]
     },
     "metadata": {
      "needs_background": "light"
     },
     "output_type": "display_data"
    }
   ],
   "source": [
    "plt.scatter(x, y, color = 'blue')\n",
    "plt.scatter(x1, y1, color = 'green')\n",
    "plt.scatter(x2, y2, color = 'black')\n",
    "plt.scatter(x3, y3, color = 'red')\n",
    "#plt.scatter(x4, y4, color = 'purple')\n",
    "#z=lin2.predict(poly.fit_transform(x))\n",
    "plt.plot(x,lin.predict(poly.fit_transform(x)), color = 'blue',label='Sim1')\n",
    "plt.plot(x1,lin.predict(poly1.fit_transform(x1)), color = 'green',label='Sim2')\n",
    "plt.plot(x2,lin2.predict(poly2.fit_transform(x2)), color = 'black',label='Sim3')\n",
    "plt.plot(x3,lin3.predict(poly3.fit_transform(x3)), color = 'red',label='Obs')\n",
    "#plt.plot(x4,lin.predict(poly4.fit_transform(x4)), color = 'purple',label='Sim4')\n",
    "plt.xlabel('Minimum pressure level (hPa)',fontsize=15)\n",
    "plt.ylabel('Maximum wind (m/s)',fontsize=15)\n",
    "plt.savefig('Windpre.png') \n",
    "plt.legend()"
   ]
  },
  {
   "cell_type": "code",
   "execution_count": null,
   "id": "7b948103",
   "metadata": {},
   "outputs": [],
   "source": []
  }
 ],
 "metadata": {
  "kernelspec": {
   "display_name": "Python 3",
   "language": "python",
   "name": "python3"
  },
  "language_info": {
   "codemirror_mode": {
    "name": "ipython",
    "version": 3
   },
   "file_extension": ".py",
   "mimetype": "text/x-python",
   "name": "python",
   "nbconvert_exporter": "python",
   "pygments_lexer": "ipython3",
   "version": "3.9.2"
  }
 },
 "nbformat": 4,
 "nbformat_minor": 5
}
